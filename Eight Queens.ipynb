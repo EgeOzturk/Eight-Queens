{
 "cells": [
  {
   "cell_type": "markdown",
   "metadata": {},
   "source": [
    "# Eight queens puzzle\n",
    "\n",
    "\n",
    "You know this problem.\n"
   ]
  },
  {
   "cell_type": "code",
   "execution_count": 1,
   "metadata": {},
   "outputs": [],
   "source": [
    "import matplotlib.pyplot as plt\n",
    "from matplotlib.pyplot import xticks,yticks\n",
    "import numpy as np\n",
    "import copy\n",
    "import time"
   ]
  },
  {
   "cell_type": "markdown",
   "metadata": {},
   "source": [
    "### ShowTable : \n",
    "\n",
    "Used for visualization chess table. "
   ]
  },
  {
   "cell_type": "code",
   "execution_count": 2,
   "metadata": {},
   "outputs": [],
   "source": [
    "def ShowTable(table):\n",
    "    board = np.zeros((8,8))\n",
    "    board[::2, ::2] = 0.5                   \n",
    "    board[1::2, 1::2] = 0.5                     \n",
    "    \n",
    "    cl = np.array([])\n",
    "    for i in range(0,8):\n",
    "        for j in range(0,8):\n",
    "            if table[i][j] == 'X':\n",
    "                cl = np.append(cl,j)\n",
    "    \n",
    "    fig, ax = plt.subplots()\n",
    "    ax.imshow(board,cmap='copper')\n",
    "\n",
    "    queen = plt.imread('image/queen.png')\n",
    "    extent = np.array([-0.45, 0.45, -0.45, 0.45])\n",
    "\n",
    "    for y, x in enumerate(cl):\n",
    "        ax.imshow(queen, extent=extent + [x, x, y, y])\n",
    "\n",
    "    xticks(np.arange(8), ('A', 'B', 'C', 'D', 'E','F','G','H'))\n",
    "    yticks(np.arange(8), ('1', '2', '3', '4', '5','6','7','8'))\n",
    "\n",
    "    ax.axis('image')\n",
    "\n",
    "    plt.show()"
   ]
  },
  {
   "cell_type": "code",
   "execution_count": 3,
   "metadata": {},
   "outputs": [],
   "source": [
    "def ColRowIndex(table):\n",
    "    rows = np.array([])\n",
    "    cols = np.array([])\n",
    "    for i in range(0,8):\n",
    "        for j in range(0,8):\n",
    "            if table[i][j] == 'X':\n",
    "                cols = np.append(cols,j)\n",
    "                rows = np.append(rows,i)\n",
    "    return rows,cols"
   ]
  },
  {
   "cell_type": "code",
   "execution_count": 4,
   "metadata": {},
   "outputs": [],
   "source": [
    "def ZerosTable(table):\n",
    "    for i in range(0,8):\n",
    "        for j in range(0,8):\n",
    "            if table[i][j] != 'X':\n",
    "                table[i][j] = '0'"
   ]
  },
  {
   "cell_type": "code",
   "execution_count": 5,
   "metadata": {},
   "outputs": [],
   "source": [
    "def MinInCol(table):\n",
    "    tableNum = copy.deepcopy(table)        \n",
    "    tableNum[tableNum == 'X'] = 100\n",
    "    tableNum = tableNum.astype(int)\n",
    "    return np.amin(tableNum, axis=0)"
   ]
  },
  {
   "cell_type": "markdown",
   "metadata": {},
   "source": [
    "### RowControl : \n",
    "\n",
    "Her bir satırdaki karelerin kaç tane vezir tarafından tehdit edildiği bilgisini hesaplamaya yarayan foksiyondur. \n",
    "\n",
    "Foksiyonda bulunan <b>row</b> ve <b>col</b> değerleri, o satırda bulunan vezrin x,y konumlarıdır.\n",
    "\n",
    "<img src=\"https://www.chessonly.com/wp-content/uploads/2020/04/setting-up-a-chess-board.png\" width=\"300\" height=\"200\" style=\"float:left\" >  \n",
    "<br><br>\n",
    "&nbsp; &nbsp;  Örneğin vezir bu resimdeki gibi (H,1) konumunda ise,\n",
    "\n",
    "&nbsp; <b>row : </b> değeri 0 \n",
    "\n",
    "&nbsp; <b>col  :</b> değeri ise 7 olarak temsil edilir.\n",
    "\n",
    "&nbsp; Bu foksiyon satırda bulunan vezirlerin tehdit ettiği kareleri tespit edip o karenin tehdit sayısını bir artırır."
   ]
  },
  {
   "cell_type": "code",
   "execution_count": 6,
   "metadata": {},
   "outputs": [],
   "source": [
    "def RowControl(table,row,col):\n",
    "    for c in range(0,8):\n",
    "        if c != col:\n",
    "            if table[int(row)][c] != 'X':\n",
    "                table[int(row)][c] = str(int(table[int(row)][c]) + 1)"
   ]
  },
  {
   "cell_type": "code",
   "execution_count": 7,
   "metadata": {},
   "outputs": [],
   "source": [
    " def ColoumnControl(table,row,col):\n",
    "    if row == 0 or row < 7:\n",
    "        for r in range(int(row)+1,8):\n",
    "            if table[r][int(col)] != 'X':\n",
    "                table[r][int(col)] = str(int(table[r][int(col)]) + 1)  \n",
    "            else:\n",
    "                break\n",
    "    if row != 0 or row == 7:\n",
    "        for r in range(int(row)-1,-1,-1):\n",
    "            if table[r][int(col)] != 'X':\n",
    "                table[r][int(col)] = str(int(table[r][int(col)]) + 1)\n",
    "            else:\n",
    "                break"
   ]
  },
  {
   "cell_type": "code",
   "execution_count": 8,
   "metadata": {},
   "outputs": [],
   "source": [
    "def DownCrossControl(table,row,col):\n",
    "    if col == 0 or col < 7:\n",
    "        c = int(col) + 1\n",
    "        for r in range(int(row)+1,8):\n",
    "            if c > 7:\n",
    "                break\n",
    "            if table[r][c] != 'X':\n",
    "                table[r][c] = str(int(table[r][c]) + 1)\n",
    "            else:\n",
    "                break\n",
    "            c = c + 1    \n",
    "\n",
    "    if col != 0 or col == 7:\n",
    "        c = int(col) - 1\n",
    "        for r in range(int(row)+1,8):\n",
    "            if c < 0:\n",
    "                break\n",
    "            if table[r][c] != 'X':\n",
    "                table[r][c] = str(int(table[r][c]) + 1)  \n",
    "            else:\n",
    "                break\n",
    "            c = c - 1    "
   ]
  },
  {
   "cell_type": "code",
   "execution_count": 9,
   "metadata": {},
   "outputs": [],
   "source": [
    "def UpCrossControl(table,row,col):\n",
    "    if col == 0 or col < 7:\n",
    "        c = int(col) + 1\n",
    "        for r in range(int(row)-1,-1,-1):\n",
    "            if c > 7:\n",
    "                break\n",
    "            if table[r][c] != 'X':\n",
    "                table[r][c] = str(int(table[r][c]) + 1)\n",
    "            else:\n",
    "                break\n",
    "            c = c + 1    \n",
    "    if col != 0 or col == 7:\n",
    "        c = int(col) - 1\n",
    "        for r in range(int(row)-1,-1,-1):\n",
    "            if c < 0:\n",
    "                break\n",
    "            if table[r][c] != 'X':\n",
    "                table[r][c] = str(int(table[r][c]) + 1)\n",
    "            else:\n",
    "                break\n",
    "            c = c - 1    "
   ]
  },
  {
   "cell_type": "code",
   "execution_count": 10,
   "metadata": {},
   "outputs": [],
   "source": [
    "def Controls(table,rows,cols):\n",
    "    for i in range(0,len(rows)):\n",
    "        RowControl(table,rows[i],cols[i])  \n",
    "    for i in range(0,len(rows)):\n",
    "        ColoumnControl(table,rows[i],cols[i])     \n",
    "    for i in range(0,len(rows)):\n",
    "        DownCrossControl(table,rows[i],cols[i]) \n",
    "    for i in range(0,len(rows)):\n",
    "        UpCrossControl(table,rows[i],cols[i]) "
   ]
  },
  {
   "cell_type": "code",
   "execution_count": 11,
   "metadata": {},
   "outputs": [],
   "source": [
    "def Finish(table,rw,cl):\n",
    "    c = 0\n",
    "    for i in range(0,8):\n",
    "        for j in range(0,8):\n",
    "            if table[i][j] == 'X':\n",
    "                table[i][j] = '0'\n",
    "                ZerosTable(table)\n",
    "                Controls(table,rw,cl)\n",
    "                if table[i][j] == '0':\n",
    "                    c = c + 1 \n",
    "                table[i][j] = 'X'\n",
    "    if c == 8:\n",
    "        return True\n",
    "    return False"
   ]
  },
  {
   "cell_type": "code",
   "execution_count": 12,
   "metadata": {},
   "outputs": [],
   "source": [
    "def CreateTable():\n",
    "    row = np.array([0,0,0,0,0,0,0,0],dtype='<U11')\n",
    "    table = np.array([row,row,row,row,row,row,row,row])\n",
    "    \n",
    "    cols = np.array([])\n",
    "    rows = np.array([])\n",
    "    \n",
    "    Coloumn = np.arange(8)\n",
    "    np.random.shuffle(Coloumn)\n",
    "    #Coloumn = np.array([2,7,3,1,0,4,6,5]) bug values\n",
    "   \n",
    "    for i in range(0,8):\n",
    "        table[i][Coloumn[i]] = 'X'\n",
    "        cols = np.append(cols,Coloumn[i])\n",
    "        rows = np.append(rows,i)\n",
    "\n",
    "    return table,rows,cols"
   ]
  },
  {
   "cell_type": "code",
   "execution_count": 13,
   "metadata": {},
   "outputs": [],
   "source": [
    "def StopIteration(table):\n",
    "    \n",
    "    print(\"Number of Iterations > 5000 so\")\n",
    "    print(\"Queen coordinates Changed...\")\n",
    "    \n",
    "    for i in range(0,8):\n",
    "        for j in range(0,8):\n",
    "            if table[i][j] == 'X':\n",
    "                table[i][j] = 0\n",
    "            if i == j:\n",
    "                table[i][j] = 'X'\n",
    "    \n",
    "    ShowTable(table)\n",
    "    \n",
    "    return table,0,0,time.time()"
   ]
  },
  {
   "cell_type": "code",
   "execution_count": 14,
   "metadata": {},
   "outputs": [],
   "source": [
    "def Solve(table):\n",
    "    minColNum = MinInCol(table)\n",
    "\n",
    "    c = 0\n",
    "    iteration = 0\n",
    "    elapsedTime = time.time()\n",
    "    \n",
    "    while(1):\n",
    "        coloum = np.array([])\n",
    "        \n",
    "        for i in range(0,8):                         # Tek bir kolon bilgsi alınıyor\n",
    "            coloum = np.append(coloum,table[i][c])\n",
    "\n",
    "        result = np.where(coloum==str(minColNum[c])) # Tek kolon içindeki index bulunuyor\n",
    "        listofCoordinats = list(zip(result[0])) \n",
    "    \n",
    "        resultX = np.where(coloum=='X')              # Tek kolon içindeki X in yeri bulunuyor\n",
    "        listXCoord = list(zip(resultX[0]))\n",
    "\n",
    "        table[listofCoordinats[0]][c] = 'X'\n",
    "        table[listXCoord[0]][c] = 1\n",
    "        \n",
    "        rw,cl = ColRowIndex(table)\n",
    "        \n",
    "        ZerosTable(table)\n",
    "    \n",
    "        Controls(table,rw,cl)\n",
    "        iteration = iteration + 1\n",
    "        \n",
    "        if Finish(copy.deepcopy(table),rw,cl):\n",
    "            elapsedTime = time.time() - elapsedTime\n",
    "            print(\"-----------------------------------------------------\\n\"+\n",
    "                  \"[Solved Table] :\")\n",
    "            ShowTable(table)\n",
    "            print(\"Elapsed Time  : {} s \\nIteration     : {}\".format(str(elapsedTime),iteration))\n",
    "            print(\"-------------------------------------------------------------------\")\n",
    "            break\n",
    "    \n",
    "        minColNum = MinInCol(table)\n",
    "    \n",
    "        c = c + 1\n",
    "        if c == 8:\n",
    "            c = 0\n",
    "        \n",
    "        if iteration == 5000:\n",
    "            table,c,iteration,elapsedTime = StopIteration(table)"
   ]
  },
  {
   "cell_type": "code",
   "execution_count": 15,
   "metadata": {},
   "outputs": [
    {
     "data": {
      "image/png": "[encoded data removed]",
      "text/plain": [
       "<Figure size 432x288 with 1 Axes>"
      ]
     },
     "metadata": {
      "needs_background": "light"
     },
     "output_type": "display_data"
    },
    {
     "name": "stdout",
     "output_type": "stream",
     "text": [
      "-----------------------------------------------------\n",
      "[Solved Table] :\n"
     ]
    },
    {
     "data": {
      "image/png": "[encoded data removed]",
      "text/plain": [
       "<Figure size 432x288 with 1 Axes>"
      ]
     },
     "metadata": {
      "needs_background": "light"
     },
     "output_type": "display_data"
    },
    {
     "name": "stdout",
     "output_type": "stream",
     "text": [
      "Elapsed Time  : 1.2909655570983887 s \n",
      "Iteration     : 184\n",
      "-------------------------------------------------------------------\n"
     ]
    }
   ],
   "source": [
    "if __name__ == \"__main__\":\n",
    "    \n",
    "    table,rows,cols = CreateTable()\n",
    "\n",
    "    Controls(table,rows,cols)   \n",
    "\n",
    "    ShowTable(table)\n",
    "\n",
    "    Solve(table)"
   ]
  },
  {
   "cell_type": "code",
   "execution_count": null,
   "metadata": {},
   "outputs": [],
   "source": []
  }
 ],
 "metadata": {
  "kernelspec": {
   "display_name": "Python 3",
   "language": "python",
   "name": "python3"
  },
  "language_info": {
   "codemirror_mode": {
    "name": "ipython",
    "version": 3
   },
   "file_extension": ".py",
   "mimetype": "text/x-python",
   "name": "python",
   "nbconvert_exporter": "python",
   "pygments_lexer": "ipython3",
   "version": "3.7.1"
  }
 },
 "nbformat": 4,
 "nbformat_minor": 2
}
